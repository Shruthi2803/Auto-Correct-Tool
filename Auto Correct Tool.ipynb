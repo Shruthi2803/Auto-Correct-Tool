{
 "cells": [
  {
   "cell_type": "code",
   "execution_count": 1,
   "id": "6aba9d7c",
   "metadata": {},
   "outputs": [],
   "source": [
    "import re"
   ]
  },
  {
   "cell_type": "code",
   "execution_count": 2,
   "id": "966545b7",
   "metadata": {},
   "outputs": [],
   "source": [
    "def tokenize_text(text):\n",
    "    \"\"\"Tokenizes the text into individual words.\"\"\"\n",
    "    return re.findall(r'\\w+', text.lower())\n",
    "dictionary = ['I', \"am\", \"not\", \"hungry\", \"and\", \"there\", \"is\", \"no\", \"place\", \"going\", \"to\",\"eat\"]"
   ]
  },
  {
   "cell_type": "code",
   "execution_count": 3,
   "id": "a041577c",
   "metadata": {},
   "outputs": [],
   "source": [
    "def find_closest_word(word, dictionary):\n",
    "    \"\"\"Finds the closest word to the given word in the dictionary based on edit distance.\"\"\"\n",
    "    min_distance = float('inf')\n",
    "    closest_word = None\n",
    "\n",
    "    for candidate_word in dictionary:\n",
    "        distance = calculate_edit_dist(word, candidate_word)\n",
    "        if distance < min_distance:\n",
    "            min_distance = distance\n",
    "            closest_word = candidate_word\n",
    "\n",
    "    return closest_word"
   ]
  },
  {
   "cell_type": "code",
   "execution_count": 4,
   "id": "a924672b",
   "metadata": {},
   "outputs": [],
   "source": [
    "def calculate_edit_dist(word1, word2):\n",
    "    \"\"\"\n",
    "    Calculates the edit distance between two words using the dynamic programming approach.\n",
    "    Edit distance is the minimum number of operations (insertion, deletion, substitution)\n",
    "    required to transform one word into another.\n",
    "    \"\"\"\n",
    "    m, n = len(word1), len(word2)\n",
    "    dp = [[0] * (n + 1) for _ in range(m + 1)]\n",
    "\n",
    "    # Initialize the first row and column\n",
    "    for i in range(m + 1):\n",
    "        dp[i][0] = i\n",
    "    for j in range(n + 1):\n",
    "        dp[0][j] = j\n",
    "\n",
    "    # Fill in the dynamic programming table\n",
    "    for i in range(1, m + 1):\n",
    "        for j in range(1, n + 1):\n",
    "            if word1[i - 1] == word2[j - 1]:\n",
    "                dp[i][j] = dp[i - 1][j - 1]\n",
    "            else:\n",
    "                dp[i][j] = min(dp[i - 1][j - 1], dp[i][j - 1], dp[i - 1][j]) + 1\n",
    "\n",
    "    return dp[m][n]"
   ]
  },
  {
   "cell_type": "code",
   "execution_count": 5,
   "id": "aff77211",
   "metadata": {},
   "outputs": [],
   "source": [
    "def auto_correct_text(text, dictionary):\n",
    "    words = text.split()\n",
    "    corrected_words = []\n",
    "\n",
    "    for word in words:\n",
    "        if word.lower() in dictionary:\n",
    "            corrected_words.append(word)\n",
    "        else:\n",
    "            closest_word = find_closest_word(word, dictionary)\n",
    "            corrected_words.append(closest_word)\n",
    "\n",
    "    return ' '.join(corrected_words)"
   ]
  },
  {
   "cell_type": "code",
   "execution_count": 6,
   "id": "bd02c551",
   "metadata": {},
   "outputs": [],
   "source": [
    "def main():\n",
    "    text = input(\"Enter a sentence: \")\n",
    "    corrected_text = auto_correct_text(text, dictionary)\n",
    "    print(\"Corrected sentence:\", corrected_text)"
   ]
  },
  {
   "cell_type": "code",
   "execution_count": 7,
   "id": "23ded82d",
   "metadata": {},
   "outputs": [
    {
     "name": "stdout",
     "output_type": "stream",
     "text": [
      "Enter a sentence: I amm going to eatt annd theye iss ne place\n",
      "Corrected sentence: I am going to eat and there is no place\n"
     ]
    }
   ],
   "source": [
    "if __name__ == \"__main__\":\n",
    "    main()"
   ]
  }
 ],
 "metadata": {
  "kernelspec": {
   "display_name": "Python 3 (ipykernel)",
   "language": "python",
   "name": "python3"
  },
  "language_info": {
   "codemirror_mode": {
    "name": "ipython",
    "version": 3
   },
   "file_extension": ".py",
   "mimetype": "text/x-python",
   "name": "python",
   "nbconvert_exporter": "python",
   "pygments_lexer": "ipython3",
   "version": "3.11.3"
  }
 },
 "nbformat": 4,
 "nbformat_minor": 5
}
